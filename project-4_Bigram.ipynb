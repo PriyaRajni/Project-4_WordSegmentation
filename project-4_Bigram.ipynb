{
 "cells": [
  {
   "cell_type": "code",
   "execution_count": null,
   "id": "1057541a",
   "metadata": {},
   "outputs": [],
   "source": [
    "import math\n",
    "from collections import defaultdict\n",
    "\n",
    "bigram_counts = {\n",
    "    ('the', 'longest'): 3000,\n",
    "    ('longest', 'list'): 1000,\n",
    "    ('list', 'of'): 2000,\n",
    "    ('of', 'the'): 2500,\n",
    "    ('stuff', 'at'): 1000,\n",
    "    ('at', 'the'): 2000,\n",
    "    ('the', 'longest'): 3000,\n",
    "    ('longest', 'domain'): 500,\n",
    "    ('domain', 'name'): 1500,\n",
    "    ('name', 'at'): 800,\n",
    "    ('at', 'long'): 1000,\n",
    "    ('long', 'last'): 1200\n",
    "}\n",
    "\n",
    "unigram_counts = {\n",
    "    'the': 50000, 'longest': 2000, 'list': 3000, 'of': 40000,\n",
    "    'stuff': 1500, 'at': 35000, 'domain': 1200, 'name': 2000,\n",
    "    'long': 2500, 'last': 2200\n",
    "}\n",
    "\n",
    "def get_bigram_cost(w1, w2):\n",
    "    if w1 in unigram_counts and (w1, w2) in bigram_counts:\n",
    "        prob = bigram_counts[(w1, w2)] / unigram_counts[w1]\n",
    "        return -math.log(prob)\n",
    "    else:\n",
    "        return 10  \n",
    "\n",
    "max_word_len = max(len(w) for w in unigram_counts)\n"
   ]
  },
  {
   "cell_type": "code",
   "execution_count": null,
   "id": "da828a84",
   "metadata": {},
   "outputs": [],
   "source": [
    "def segment_text_bigram(text, unigram_counts, max_word_len):\n",
    "    n = len(text)\n",
    "    cost = [0]\n",
    "    backtrace = [('', 0)]  \n",
    "\n",
    "    for i in range(1, n + 1):\n",
    "        candidates = []\n",
    "\n",
    "        for k in range(1, min(i, max_word_len) + 1):\n",
    "            word = text[i - k:i]\n",
    "            word_lower = word.lower()\n",
    "\n",
    "            if word_lower not in unigram_counts:\n",
    "                continue \n",
    "            for j in range(len(cost)):\n",
    "                if j == i - k:\n",
    "                    prev_word = backtrace[j][0]\n",
    "                    transition_cost = get_bigram_cost(prev_word, word_lower) if prev_word else 0\n",
    "                    curr_cost = cost[j] + transition_cost\n",
    "                    candidates.append((curr_cost, word_lower, j))\n",
    "\n",
    "        if not candidates:\n",
    "            cost.append(cost[-1] + 10)  \n",
    "            backtrace.append((None, i - 1))\n",
    "        else:\n",
    "            best_cost, best_word, best_j = min(candidates)\n",
    "            cost.append(best_cost)\n",
    "            backtrace.append((best_word, best_j))\n",
    "\n",
    "    # Reconstruct\n",
    "    words = []\n",
    "    i = n\n",
    "    while i > 0:\n",
    "        word, j = backtrace[i]\n",
    "        if word:\n",
    "            words.append(text[j:i])\n",
    "        i = j\n",
    "\n",
    "    return list(reversed(words))\n"
   ]
  },
  {
   "cell_type": "markdown",
   "id": "d6a5aa5a",
   "metadata": {},
   "source": [
    "\"input_str\" is the place holder for the string"
   ]
  },
  {
   "cell_type": "code",
   "execution_count": 3,
   "id": "8a222ce0",
   "metadata": {},
   "outputs": [
    {
     "name": "stdout",
     "output_type": "stream",
     "text": [
      "Segmented Output (Bigram): ['the', 'longest', 'list', 'of', 'the', 'longest', 'stuff', 'at', 'the', 'longest', 'domain', 'name', 'at', 'long', 'last']\n"
     ]
    }
   ],
   "source": [
    "input_str = \"thelongestlistofthelongeststuffatthelongestdomainnameatlonglast\"\n",
    "segmented_bigram = segment_text_bigram(input_str, unigram_counts, max_word_len)\n",
    "print(\"Segmented Output (Bigram):\", segmented_bigram)\n"
   ]
  }
 ],
 "metadata": {
  "kernelspec": {
   "display_name": "venv_prj4",
   "language": "python",
   "name": "python3"
  },
  "language_info": {
   "codemirror_mode": {
    "name": "ipython",
    "version": 3
   },
   "file_extension": ".py",
   "mimetype": "text/x-python",
   "name": "python",
   "nbconvert_exporter": "python",
   "pygments_lexer": "ipython3",
   "version": "3.11.0"
  }
 },
 "nbformat": 4,
 "nbformat_minor": 5
}
