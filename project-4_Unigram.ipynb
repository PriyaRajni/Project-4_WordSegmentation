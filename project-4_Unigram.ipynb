{
 "cells": [
  {
   "cell_type": "markdown",
   "id": "e01ccab3",
   "metadata": {},
   "source": [
    "Load Word Frequency Dictionary"
   ]
  },
  {
   "cell_type": "code",
   "execution_count": 9,
   "id": "6f502bc9",
   "metadata": {},
   "outputs": [],
   "source": [
    "import math\n",
    "\n",
    "def load_unigram_model():\n",
    "    \n",
    "    word_freq = {\n",
    "        'the': 50000, 'longest': 2000, 'list': 3000, 'of': 40000,\n",
    "        'stuff': 1500, 'at': 35000, 'domain': 1200, 'name': 2000,\n",
    "        'long': 2500, 'last': 2200\n",
    "    }\n",
    "\n",
    "    total = sum(word_freq.values())\n",
    "    word_cost = {word: -math.log(freq / total) for word, freq in word_freq.items()}\n",
    "    max_word_len = max(len(word) for word in word_freq)\n",
    "    return word_cost, max_word_len\n"
   ]
  },
  {
   "cell_type": "markdown",
   "id": "0a0bf4ed",
   "metadata": {},
   "source": [
    "Use the \"Viterbi-style Segmentation Algorithm\""
   ]
  },
  {
   "cell_type": "code",
   "execution_count": 10,
   "id": "d3173b83",
   "metadata": {},
   "outputs": [],
   "source": [
    "def segment_text(text, word_cost, max_word_len):\n",
    "    n = len(text)\n",
    "    cost = [0]\n",
    "    backtrace = [0]\n",
    "\n",
    "    for i in range(1, n + 1):\n",
    "        candidates = []\n",
    "        for k in range(1, min(i, max_word_len) + 1):\n",
    "            word = text[i - k:i]\n",
    "            word_lower = word.lower()\n",
    "\n",
    "            if word_lower in word_cost:\n",
    "                curr_cost = cost[i - k] + word_cost[word_lower]\n",
    "            else:\n",
    "                curr_cost = cost[i - k] + 10 \n",
    "\n",
    "            candidates.append((curr_cost, k))\n",
    "\n",
    "        min_cost, best_k = min(candidates)\n",
    "        cost.append(min_cost)\n",
    "        backtrace.append(best_k)\n",
    "\n",
    "    # Reconstruct segmented words\n",
    "    out = []\n",
    "    i = n\n",
    "    while i > 0:\n",
    "        k = backtrace[i]\n",
    "        out.append(text[i - k:i])\n",
    "        i -= k\n",
    "\n",
    "    return list(reversed(out))\n"
   ]
  },
  {
   "cell_type": "markdown",
   "id": "661fa151",
   "metadata": {},
   "source": [
    "\"input_str\" is the place holder for the string"
   ]
  },
  {
   "cell_type": "code",
   "execution_count": 11,
   "id": "e42d4206",
   "metadata": {},
   "outputs": [
    {
     "name": "stdout",
     "output_type": "stream",
     "text": [
      "Segmented Output Unigram: ['the', 'longest', 'list', 'of', 'the', 'longest', 'stuff', 'at', 'the', 'longest', 'domain', 'name', 'at', 'long', 'last']\n"
     ]
    }
   ],
   "source": [
    "word_cost, max_word_len = load_unigram_model()\n",
    "\n",
    "# Input string (no spaces)\n",
    "input_str = \"thelongestlistofthelongeststuffatthelongestdomainnameatlonglast\"\n",
    "\n",
    "# Segment the input\n",
    "segmented = segment_text(input_str, word_cost, max_word_len)\n",
    "\n",
    "# Output\n",
    "print(\"Segmented Output Unigram:\", segmented)\n"
   ]
  }
 ],
 "metadata": {
  "kernelspec": {
   "display_name": "venv_prj4",
   "language": "python",
   "name": "python3"
  },
  "language_info": {
   "codemirror_mode": {
    "name": "ipython",
    "version": 3
   },
   "file_extension": ".py",
   "mimetype": "text/x-python",
   "name": "python",
   "nbconvert_exporter": "python",
   "pygments_lexer": "ipython3",
   "version": "3.11.0"
  }
 },
 "nbformat": 4,
 "nbformat_minor": 5
}
